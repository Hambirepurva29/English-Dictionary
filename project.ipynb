{
 "cells": [
  {
   "cell_type": "code",
   "execution_count": 2,
   "metadata": {},
   "outputs": [
    {
     "name": "stdout",
     "output_type": "stream",
     "text": [
      "Requirement already satisfied: beautifulsoup4 in c:\\users\\computer\\appdata\\local\\programs\\python\\python310\\lib\\site-packages (4.11.1)\n",
      "Requirement already satisfied: soupsieve>1.2 in c:\\users\\computer\\appdata\\local\\programs\\python\\python310\\lib\\site-packages (from beautifulsoup4) (2.3.2.post1)\n",
      "Note: you may need to restart the kernel to use updated packages.\n"
     ]
    }
   ],
   "source": [
    "pip install beautifulsoup4"
   ]
  },
  {
   "cell_type": "code",
   "execution_count": 3,
   "metadata": {},
   "outputs": [
    {
     "ename": "AttributeError",
     "evalue": "'str' object has no attribute 'synonyms'",
     "output_type": "error",
     "traceback": [
      "\u001b[1;31m---------------------------------------------------------------------------\u001b[0m",
      "\u001b[1;31mAttributeError\u001b[0m                            Traceback (most recent call last)",
      "\u001b[1;32me:\\Purva\\Projects\\English Dictionary\\project.ipynb Cell 2'\u001b[0m in \u001b[0;36m<cell line: 16>\u001b[1;34m()\u001b[0m\n\u001b[0;32m     <a href='vscode-notebook-cell:/e%3A/Purva/Projects/English%20Dictionary/project.ipynb#ch0000001?line=12'>13</a>\u001b[0m     \u001b[39mreturn\u001b[39;00m [span\u001b[39m.\u001b[39mtext \u001b[39mfor\u001b[39;00m span \u001b[39min\u001b[39;00m soup\u001b[39m.\u001b[39mfindAll(\u001b[39m'\u001b[39m\u001b[39ma\u001b[39m\u001b[39m'\u001b[39m, {\u001b[39m'\u001b[39m\u001b[39mclass\u001b[39m\u001b[39m'\u001b[39m: \u001b[39m'\u001b[39m\u001b[39mcss-1kg1yv8 eh475bn0\u001b[39m\u001b[39m'\u001b[39m})] \u001b[39m# 'css-1gyuw4i eh475bn0' for less relevant synonyms\u001b[39;00m\n\u001b[0;32m     <a href='vscode-notebook-cell:/e%3A/Purva/Projects/English%20Dictionary/project.ipynb#ch0000001?line=14'>15</a>\u001b[0m word \u001b[39m=\u001b[39m \u001b[39minput\u001b[39m(\u001b[39m\"\u001b[39m\u001b[39mInput Your Word Here!\u001b[39m\u001b[39m\"\u001b[39m)\n\u001b[1;32m---> <a href='vscode-notebook-cell:/e%3A/Purva/Projects/English%20Dictionary/project.ipynb#ch0000001?line=15'>16</a>\u001b[0m Eng_synonym \u001b[39m=\u001b[39m word\u001b[39m.\u001b[39;49msynonyms(casefold())\n\u001b[0;32m     <a href='vscode-notebook-cell:/e%3A/Purva/Projects/English%20Dictionary/project.ipynb#ch0000001?line=17'>18</a>\u001b[0m soups \u001b[39m=\u001b[39m soup\u001b[39m.\u001b[39mfind(class_\u001b[39m=\u001b[39m\u001b[39m\"\u001b[39m\u001b[39msynonyms\u001b[39m\u001b[39m\"\u001b[39m) \n\u001b[0;32m     <a href='vscode-notebook-cell:/e%3A/Purva/Projects/English%20Dictionary/project.ipynb#ch0000001?line=18'>19</a>\u001b[0m txt \u001b[39m=\u001b[39m soup3\u001b[39m.\u001b[39mget_text()\n",
      "\u001b[1;31mAttributeError\u001b[0m: 'str' object has no attribute 'synonyms'"
     ]
    }
   ],
   "source": [
    "import urllib.request, urllib.parse, urllib.error\n",
    "from bs4 import BeautifulSoup\n",
    "import ssl\n",
    "\n",
    "ctx = ssl.create_default_context()\n",
    "ctx.check_hostname = False\n",
    "ctx.verify_mode = ssl.CERT_NONE\n",
    "\n",
    "def synonyms(term):\n",
    "    response = requests.get('https://www.thesaurus.com/browse/{}'.format(term))\n",
    "    soup = BeautifulSoup(response.text, 'lxml')\n",
    "    soup.find('section', {'class': 'css-17ofzyv e1ccqdb60'})\n",
    "    return [span.text for span in soup.findAll('a', {'class': 'css-1kg1yv8 eh475bn0'})] # 'css-1gyuw4i eh475bn0' for less relevant synonyms\n",
    "\n",
    "word = input(\"Input Your Word Here!\")\n",
    "Eng_synonym = word.synonyms(casefold())\n",
    "\n",
    "soups = soup.find(class_=\"synonyms\") \n",
    "txt = soup3.get_text()\n",
    "txt1 = txt.rstrip()\n",
    "\n",
    "print (' '.join(txt1.split()))\n",
    "\"\"\"syn = \"Synonym:\\n\"\n",
    "    c = 0\n",
    "    for s in Eng_synonym:\n",
    "        c += 1\n",
    "        syn = syn + str(c) + \". \" + s.capitalize() + \"\\n\"\n",
    "    Answer_window.setText(syn)\n",
    "    print(syn)\n",
    "    print(Eng_synonym)\n",
    "print(synonyms(word))\n",
    "\"\"\""
   ]
  },
  {
   "cell_type": "code",
   "execution_count": 13,
   "metadata": {},
   "outputs": [
    {
     "name": "stdout",
     "output_type": "stream",
     "text": [
      "Synonyms: -\n",
      "Synonyms: -\n"
     ]
    }
   ],
   "source": [
    "import urllib.request, urllib.parse, urllib.error\n",
    "from bs4 import BeautifulSoup\n",
    "import ssl\n",
    "\n",
    "ctx = ssl.create_default_context()\n",
    "ctx.check_hostname = False\n",
    "ctx.verify_mode = ssl.CERT_NONE\n",
    "\n",
    "word = input(\"Input Your Word Here!\")\n",
    "url = urllib.request.urlopen('https://www.thesaurus.com/browse/', context=ctx).read()\n",
    "soup = BeautifulSoup(url, 'html.parser')\n",
    "\n",
    "\n",
    "try:\n",
    "    print (\"Synonyms: -\")    \n",
    "    soups = soup.find(class_=\"synonyms\").get_text() \n",
    "    syn = \"Synonym:\\n\"\n",
    "    c = 0\n",
    "    for s in soups:\n",
    "        c += 1\n",
    "        syn = syn + str(c) + \". \" + s.capitalize() + \"\\n\"\n",
    "    print(syn)\n",
    "    print(soups)\n",
    "\n",
    "except AttributeError:\n",
    "        print (\"Synonyms: -\")        \n",
    "\n",
    "    \n",
    "\n",
    "\n"
   ]
  },
  {
   "cell_type": "code",
   "execution_count": 15,
   "metadata": {},
   "outputs": [
    {
     "name": "stdout",
     "output_type": "stream",
     "text": [
      "None\n"
     ]
    }
   ],
   "source": [
    "\n",
    "\n",
    "url = urllib.request.urlopen('https://www.thesaurus.com/browse/', context=ctx).read()\n",
    "soup = BeautifulSoup(url, 'html.parser')\n",
    "\n",
    "soups = soup.find(class_=\"synonyms\")\n",
    "print(soups)"
   ]
  }
 ],
 "metadata": {
  "kernelspec": {
   "display_name": "Python 3.10.5 64-bit",
   "language": "python",
   "name": "python3"
  },
  "language_info": {
   "codemirror_mode": {
    "name": "ipython",
    "version": 3
   },
   "file_extension": ".py",
   "mimetype": "text/x-python",
   "name": "python",
   "nbconvert_exporter": "python",
   "pygments_lexer": "ipython3",
   "version": "3.10.5"
  },
  "orig_nbformat": 4,
  "vscode": {
   "interpreter": {
    "hash": "e4ba08aa27a50dfc4411e691f4a22a11e700bce603ba8e16cecc3bc830c9da89"
   }
  }
 },
 "nbformat": 4,
 "nbformat_minor": 2
}
